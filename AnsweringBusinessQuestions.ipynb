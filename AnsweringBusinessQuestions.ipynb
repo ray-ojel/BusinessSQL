{
 "cells": [
  {
   "cell_type": "markdown",
   "metadata": {
    "collapsed": true
   },
   "source": [
    "# Answering Business Questions Using SQL\n",
    "\n",
    "The Chinook database is provided as a SQLite database file called chinook.db about online music purchases."
   ]
  },
  {
   "cell_type": "code",
   "execution_count": 51,
   "metadata": {
    "collapsed": false
   },
   "outputs": [
    {
     "data": {
      "text/plain": [
       "'Connected: None@chinook.db'"
      ]
     },
     "execution_count": 51,
     "metadata": {},
     "output_type": "execute_result"
    }
   ],
   "source": [
    "%%capture\n",
    "%load_ext sql\n",
    "%sql sqlite:///chinook.db"
   ]
  },
  {
   "cell_type": "markdown",
   "metadata": {},
   "source": [
    "#### Q1: Select the first three albums that will be added to the store, from a list of four:\n",
    "1. Regal: Hip-Hop\n",
    "2. Red Tone: Punk\n",
    "3. Meteor and the Girls: Pop\n",
    "4. Slim Jim Bites: Blues \n",
    "\n",
    "Write a query that returns each genre, with the number of tracks sold in the USA:\n",
    "* in absolute numbers\n",
    "* in percentages."
   ]
  },
  {
   "cell_type": "code",
   "execution_count": 52,
   "metadata": {
    "collapsed": false
   },
   "outputs": [
    {
     "name": "stdout",
     "output_type": "stream",
     "text": [
      "Done.\n"
     ]
    },
    {
     "data": {
      "text/html": [
       "<table>\n",
       "    <tr>\n",
       "        <th>genre</th>\n",
       "        <th>no_of_tracks_sold</th>\n",
       "        <th>percentage_sold</th>\n",
       "    </tr>\n",
       "    <tr>\n",
       "        <td>Rock</td>\n",
       "        <td>561</td>\n",
       "        <td>53.38</td>\n",
       "    </tr>\n",
       "    <tr>\n",
       "        <td>Alternative &amp; Punk</td>\n",
       "        <td>130</td>\n",
       "        <td>12.37</td>\n",
       "    </tr>\n",
       "    <tr>\n",
       "        <td>Metal</td>\n",
       "        <td>124</td>\n",
       "        <td>11.8</td>\n",
       "    </tr>\n",
       "    <tr>\n",
       "        <td>R&amp;B/Soul</td>\n",
       "        <td>53</td>\n",
       "        <td>5.04</td>\n",
       "    </tr>\n",
       "    <tr>\n",
       "        <td>Blues</td>\n",
       "        <td>36</td>\n",
       "        <td>3.43</td>\n",
       "    </tr>\n",
       "    <tr>\n",
       "        <td>Alternative</td>\n",
       "        <td>35</td>\n",
       "        <td>3.33</td>\n",
       "    </tr>\n",
       "    <tr>\n",
       "        <td>Latin</td>\n",
       "        <td>22</td>\n",
       "        <td>2.09</td>\n",
       "    </tr>\n",
       "    <tr>\n",
       "        <td>Pop</td>\n",
       "        <td>22</td>\n",
       "        <td>2.09</td>\n",
       "    </tr>\n",
       "    <tr>\n",
       "        <td>Hip Hop/Rap</td>\n",
       "        <td>20</td>\n",
       "        <td>1.9</td>\n",
       "    </tr>\n",
       "    <tr>\n",
       "        <td>Jazz</td>\n",
       "        <td>14</td>\n",
       "        <td>1.33</td>\n",
       "    </tr>\n",
       "</table>"
      ],
      "text/plain": [
       "[('Rock', 561, 53.38),\n",
       " ('Alternative & Punk', 130, 12.37),\n",
       " ('Metal', 124, 11.8),\n",
       " ('R&B/Soul', 53, 5.04),\n",
       " ('Blues', 36, 3.43),\n",
       " ('Alternative', 35, 3.33),\n",
       " ('Latin', 22, 2.09),\n",
       " ('Pop', 22, 2.09),\n",
       " ('Hip Hop/Rap', 20, 1.9),\n",
       " ('Jazz', 14, 1.33)]"
      ]
     },
     "execution_count": 52,
     "metadata": {},
     "output_type": "execute_result"
    }
   ],
   "source": [
    "%%sql\n",
    "WITH u AS \n",
    "        ( -- Named subquery to include only sales in the USA\n",
    "        SELECT \n",
    "        billing_country country,\n",
    "        invoice_id\n",
    "        FROM invoice \n",
    "        WHERE country = \"USA\"\n",
    "        )\n",
    "SELECT \n",
    "        g.name genre,\n",
    "        COUNT(t.track_id) no_of_tracks_sold, \n",
    "        ROUND((COUNT(t.track_id) * 100.0) / ( -- subquery to give total number of tracks to find percentage \n",
    "                                            SELECT COUNT(il.track_id)\n",
    "                                            FROM invoice i\n",
    "                                            INNER JOIN invoice_line il ON i.invoice_id = il.invoice_id\n",
    "                                            WHERE I.billing_country = \"USA\"\n",
    "                                            ), 2) percentage_sold\n",
    "FROM u\n",
    "LEFT JOIN invoice_line il ON il.invoice_id = u.invoice_id\n",
    "LEFT JOIN track t ON t.track_id = il.track_id\n",
    "LEFT JOIN genre g ON g.genre_id = t.genre_id\n",
    "GROUP BY 1 ORDER BY 3 DESC \n",
    "LIMIT 10;"
   ]
  },
  {
   "cell_type": "markdown",
   "metadata": {},
   "source": [
    "Based on the results, I would recommend: \n",
    "1. Red Tone: Punk\n",
    "2. Slim Jim Bites: Blues\n",
    "3. Meteor and the Girls: Pop\n",
    "Together, these generes make up about %18 percent of the total sales but rock contibutes to 53% of sales so if we can we should find a rock artist."
   ]
  },
  {
   "cell_type": "markdown",
   "metadata": {},
   "source": [
    "#### Q2: analyze the purchases of customers belonging to each employee to see if any sales support agent is performing either better or worse than the others.\n",
    "Write a query that finds the total dollar amount of sales assigned to each sales support agent within the company. \n",
    "Add any extra attributes for that employee that you find are relevant to the analysis."
   ]
  },
  {
   "cell_type": "code",
   "execution_count": 53,
   "metadata": {
    "collapsed": false,
    "scrolled": true
   },
   "outputs": [
    {
     "name": "stdout",
     "output_type": "stream",
     "text": [
      "Done.\n"
     ]
    },
    {
     "data": {
      "text/html": [
       "<table>\n",
       "    <tr>\n",
       "        <th>emp_name</th>\n",
       "        <th>total</th>\n",
       "        <th>date_hired</th>\n",
       "        <th>title</th>\n",
       "    </tr>\n",
       "    <tr>\n",
       "        <td>Jane Peacock</td>\n",
       "        <td>1731.51</td>\n",
       "        <td>2017-04-01 00:00:00</td>\n",
       "        <td>Sales Support Agent</td>\n",
       "    </tr>\n",
       "    <tr>\n",
       "        <td>Margaret Park</td>\n",
       "        <td>1584.0</td>\n",
       "        <td>2017-05-03 00:00:00</td>\n",
       "        <td>Sales Support Agent</td>\n",
       "    </tr>\n",
       "    <tr>\n",
       "        <td>Steve Johnson</td>\n",
       "        <td>1393.92</td>\n",
       "        <td>2017-10-17 00:00:00</td>\n",
       "        <td>Sales Support Agent</td>\n",
       "    </tr>\n",
       "</table>"
      ],
      "text/plain": [
       "[('Jane Peacock', 1731.51, '2017-04-01 00:00:00', 'Sales Support Agent'),\n",
       " ('Margaret Park', 1584.0, '2017-05-03 00:00:00', 'Sales Support Agent'),\n",
       " ('Steve Johnson', 1393.92, '2017-10-17 00:00:00', 'Sales Support Agent')]"
      ]
     },
     "execution_count": 53,
     "metadata": {},
     "output_type": "execute_result"
    }
   ],
   "source": [
    "%%sql\n",
    "SELECT \n",
    "    e.first_name || ' ' || e.last_name emp_name,\n",
    "    ROUND(SUM(i.total), 2) total,\n",
    "    e.hire_date date_hired,\n",
    "    e.title title\n",
    "FROM invoice i\n",
    "INNER JOIN customer c ON c.customer_id = i.customer_id\n",
    "INNER JOIN employee e ON e.employee_id = c.support_rep_id\n",
    "GROUP BY employee_id ORDER BY 2 DESC;"
   ]
  },
  {
   "cell_type": "markdown",
   "metadata": {
    "collapsed": true
   },
   "source": [
    "While there is a 20% difference in sales between Jane (the top employee) and Steve (the bottom employee), the difference roughly corresponds with the differences in their hiring dates."
   ]
  },
  {
   "cell_type": "markdown",
   "metadata": {},
   "source": [
    "#### Q3: You have been directed to calculate data, for each country, on the:\n",
    "\n",
    "* total number of customers\n",
    "* total value of sales\n",
    "* average value of sales per customer\n",
    "* average order value"
   ]
  },
  {
   "cell_type": "code",
   "execution_count": 62,
   "metadata": {
    "collapsed": false
   },
   "outputs": [
    {
     "name": "stdout",
     "output_type": "stream",
     "text": [
      "Done.\n"
     ]
    },
    {
     "data": {
      "text/html": [
       "<table>\n",
       "    <tr>\n",
       "        <th>new_country</th>\n",
       "        <th>no_of_cust</th>\n",
       "        <th>total</th>\n",
       "        <th>avg_per_cust</th>\n",
       "        <th>avg_order_val</th>\n",
       "    </tr>\n",
       "    <tr>\n",
       "        <td>USA</td>\n",
       "        <td>13</td>\n",
       "        <td>1040.49</td>\n",
       "        <td>80.03769230769231</td>\n",
       "        <td>7.942671755725191</td>\n",
       "    </tr>\n",
       "    <tr>\n",
       "        <td>Canada</td>\n",
       "        <td>8</td>\n",
       "        <td>535.59</td>\n",
       "        <td>66.94875</td>\n",
       "        <td>7.047236842105264</td>\n",
       "    </tr>\n",
       "    <tr>\n",
       "        <td>Brazil</td>\n",
       "        <td>5</td>\n",
       "        <td>427.67999999999995</td>\n",
       "        <td>85.53599999999999</td>\n",
       "        <td>7.011147540983606</td>\n",
       "    </tr>\n",
       "    <tr>\n",
       "        <td>France</td>\n",
       "        <td>5</td>\n",
       "        <td>389.07</td>\n",
       "        <td>77.814</td>\n",
       "        <td>7.7814</td>\n",
       "    </tr>\n",
       "    <tr>\n",
       "        <td>Germany</td>\n",
       "        <td>4</td>\n",
       "        <td>334.62</td>\n",
       "        <td>83.655</td>\n",
       "        <td>8.161463414634147</td>\n",
       "    </tr>\n",
       "    <tr>\n",
       "        <td>Czech Republic</td>\n",
       "        <td>2</td>\n",
       "        <td>273.24</td>\n",
       "        <td>136.62</td>\n",
       "        <td>9.108</td>\n",
       "    </tr>\n",
       "    <tr>\n",
       "        <td>United Kingdom</td>\n",
       "        <td>3</td>\n",
       "        <td>245.51999999999998</td>\n",
       "        <td>81.83999999999999</td>\n",
       "        <td>8.768571428571429</td>\n",
       "    </tr>\n",
       "    <tr>\n",
       "        <td>Portugal</td>\n",
       "        <td>2</td>\n",
       "        <td>185.13</td>\n",
       "        <td>92.565</td>\n",
       "        <td>6.3837931034482756</td>\n",
       "    </tr>\n",
       "    <tr>\n",
       "        <td>India</td>\n",
       "        <td>2</td>\n",
       "        <td>183.14999999999998</td>\n",
       "        <td>91.57499999999999</td>\n",
       "        <td>8.72142857142857</td>\n",
       "    </tr>\n",
       "    <tr>\n",
       "        <td>Other</td>\n",
       "        <td>15</td>\n",
       "        <td>1094.9399999999998</td>\n",
       "        <td>72.996</td>\n",
       "        <td>109.49399999999999</td>\n",
       "    </tr>\n",
       "</table>"
      ],
      "text/plain": [
       "[('USA', 13, 1040.49, 80.03769230769231, 7.942671755725191),\n",
       " ('Canada', 8, 535.59, 66.94875, 7.047236842105264),\n",
       " ('Brazil', 5, 427.67999999999995, 85.53599999999999, 7.011147540983606),\n",
       " ('France', 5, 389.07, 77.814, 7.7814),\n",
       " ('Germany', 4, 334.62, 83.655, 8.161463414634147),\n",
       " ('Czech Republic', 2, 273.24, 136.62, 9.108),\n",
       " ('United Kingdom', 3, 245.51999999999998, 81.83999999999999, 8.768571428571429),\n",
       " ('Portugal', 2, 185.13, 92.565, 6.3837931034482756),\n",
       " ('India', 2, 183.14999999999998, 91.57499999999999, 8.72142857142857),\n",
       " ('Other', 15, 1094.9399999999998, 72.996, 109.49399999999999)]"
      ]
     },
     "execution_count": 62,
     "metadata": {},
     "output_type": "execute_result"
    }
   ],
   "source": [
    "%%sql\n",
    "WITH \n",
    "    country_cust AS\n",
    "      (\n",
    "        SELECT \n",
    "          c.country country,\n",
    "          c.customer_id customer_id,\n",
    "          COUNT(i.invoice_id) no_of_order,\n",
    "          SUM(i.total) total        \n",
    "      FROM customer c\n",
    "      INNER JOIN invoice i ON i.customer_id = c.customer_id\n",
    "      GROUP BY 1, 2\n",
    "    ),\n",
    "        \n",
    "    country_other AS\n",
    "    (\n",
    "    SELECT \n",
    "        COUNT(customer_id) no_of_cust, \n",
    "        SUM(total) total,\n",
    "        SUM(no_of_order) no_of_orders,\n",
    "        CASE \n",
    "            WHEN COUNT(customer_id) = 1 THEN 'Other'\n",
    "            ELSE country\n",
    "            END AS new_country\n",
    "    FROM country_cust\n",
    "    GROUP BY country\n",
    "    )\n",
    "SELECT \n",
    "    new_country, \n",
    "    SUM(no_of_cust) no_of_cust, \n",
    "    SUM(total) total,\n",
    "    SUM(total) / SUM(no_of_cust) avg_per_cust,\n",
    "    SUM(total) / no_of_orders avg_order_val\n",
    "FROM (\n",
    "    SELECT\n",
    "        co.*,\n",
    "        CASE\n",
    "            WHEN co.new_country = \"Other\" THEN 1\n",
    "            ELSE 0\n",
    "        END AS sort\n",
    "    FROM country_other co\n",
    "   )\n",
    "GROUP BY 1 ORDER BY sort ASC, 3 DESC;"
   ]
  },
  {
   "cell_type": "markdown",
   "metadata": {},
   "source": [
    "\n",
    "Based on the data, there may be opportunity in the following countries:\n",
    "\n",
    "* Czech Republic\n",
    "* United Kingdom\n",
    "* India"
   ]
  }
 ],
 "metadata": {
  "kernelspec": {
   "display_name": "Python 3",
   "language": "python",
   "name": "python3"
  },
  "language_info": {
   "codemirror_mode": {
    "name": "ipython",
    "version": 3
   },
   "file_extension": ".py",
   "mimetype": "text/x-python",
   "name": "python",
   "nbconvert_exporter": "python",
   "pygments_lexer": "ipython3",
   "version": "3.4.3"
  }
 },
 "nbformat": 4,
 "nbformat_minor": 2
}
